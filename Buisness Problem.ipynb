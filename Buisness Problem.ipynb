{
 "cells": [
  {
   "cell_type": "markdown",
   "metadata": {},
   "source": [
    "<h1>Battle of Neighbourhood (Restaurants In Delhi)</h1><br>\n",
    "<br><h2>\n",
    "History\n",
    "<br></h2>\n",
    "New Delhi is the capital city of India. It is a part of the city of Delhi’s 11 districts. The city itself has a population of 257,803. However, the much larger metro area has a population that exceeds 26 million.\n",
    "New Delhi are used interchangeably to refer to the National Capital Territory of Delhi (NCT), these are two distinct entities, with New Delhi forming a small part of Delhi. The National Capital Region is a much larger entity comprising the entire NCT along with adjoining districts in neighboring states.\n",
    "The official language of New Delhi and the one that is most widely spoken is Hindi. However, English is also spoken as a formal language within businesses and government agencies. Over last decades it is continuously grow because of the city’s important role in government and commercial business.\n",
    "With it’s diverse culture , comes diverse food items. There are many restaurants in New Delhi City, each belonging to different categories like Chinese , Italian , French etc.\n",
    "So as part of this project , we will list and visualize all major parts of New Delhi City .\n",
    "<br><br>\n",
    "<h2>Problem Statement</h2>\n",
    "<br><br>\n",
    "In Delhi We have a lot of resturants for different type of Cuisine and each part of delhi have different specility for different Cuisine.We are not able to know which part of delhi have what speciality in which food. So here we would analyse this problem.With the help of Data sets from different sources we would analyse the speciality of different parts of delhi and try to answer some questions related to it.</h2>\n",
    "<br><br>\n",
    "<h2>Target Audience</h2><br><br>We would use our analyses to refer different food lovers different resturants in delhi based on their location and their love for different Cuisine.Different people have different taste and we would use our analyses to help our audience to explore their taste in different resturants in delhi.<br><br>\n",
    "\n",
    "\n",
    "<h2>Solution Of Problem Statement</h2><br><br>\n",
    "<h4>We will try to answer a few questions based on the data set and try to explore more from the data set regarding people likings for the different resturants.\n",
    "Questions that can be asked using the above mentioned datasets<br><br>\n",
    "•\tWhat is best location in New Delhi City for Chinese Cuisine ?<br><br>\n",
    "    We will take the data from different datasets and explore the datasets with each other and will try to find to which place in delhi is best for Chinese Cuisine.<br><br>\n",
    "•\tWhich areas have large number of Chinese Resturant Market ?<br><br>\n",
    "    We will explore the data set and try to find to which are in delhi have the large number of Chinese Resturant market.<br><br>\n",
    "•\tWhich all areas have less number of resturant ?<br><br>\n",
    "    With the given dataset we explore the likings of people and find out which area in delhi have less resturants compared to other places in delhi.<br><br>\n",
    "•\tWhich is the best place to stay if I prefer Chinese Cuisine ?<br><br>\n",
    "    With the help of the data analysis technique we will try to find out which location is best to stay in delhi if a person prefer Chinese Cuisine.<br><br>\n",
    "•\tWhat places are have best restaurant in New Delhi?<br><br>\n",
    "    With the data analysis technique we will take our analysis to find out which places in delhi have best resturants.\n",
    "</h4>"
   ]
  },
  {
   "cell_type": "markdown",
   "metadata": {},
   "source": []
  },
  {
   "cell_type": "code",
   "execution_count": null,
   "metadata": {},
   "outputs": [],
   "source": []
  }
 ],
 "metadata": {
  "kernelspec": {
   "display_name": "Python 3",
   "language": "python",
   "name": "python3"
  },
  "language_info": {
   "codemirror_mode": {
    "name": "ipython",
    "version": 3
   },
   "file_extension": ".py",
   "mimetype": "text/x-python",
   "name": "python",
   "nbconvert_exporter": "python",
   "pygments_lexer": "ipython3",
   "version": "3.8.5"
  }
 },
 "nbformat": 4,
 "nbformat_minor": 4
}
