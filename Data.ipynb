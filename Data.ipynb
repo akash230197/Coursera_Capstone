{
 "cells": [
  {
   "cell_type": "markdown",
   "metadata": {},
   "source": [
    "<h1>For this project we need the following data :</h1><br>\n",
    "New Delhi Resturants data that contains list Locality, Resturant name,Rating along with their latitude and longitude.<br><br>\n",
    "•\tData source : Zomato kaggel dataset : \"https://www.kaggle.com/shrutimehta/zomato-restaurants-data\"<br><br>\n",
    "•\tDescription : This data set contains the required information. And we will use this data set to explore various locality of new delhi city.<br><br>\n",
    "•\tNearby places in each locality of new delhi city.<br><br>\n",
    "•\tData source : Fousquare API : \"https://developer.foursquare.com/\"<br><br>\n",
    "•\tDescription : By using this api we will get all the venues in each neighborhood.\n"
   ]
  },
  {
   "cell_type": "code",
   "execution_count": null,
   "metadata": {},
   "outputs": [],
   "source": []
  }
 ],
 "metadata": {
  "kernelspec": {
   "display_name": "Python 3",
   "language": "python",
   "name": "python3"
  },
  "language_info": {
   "codemirror_mode": {
    "name": "ipython",
    "version": 3
   },
   "file_extension": ".py",
   "mimetype": "text/x-python",
   "name": "python",
   "nbconvert_exporter": "python",
   "pygments_lexer": "ipython3",
   "version": "3.8.5"
  }
 },
 "nbformat": 4,
 "nbformat_minor": 4
}
